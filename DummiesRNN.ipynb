{
 "cells": [
  {
   "cell_type": "code",
   "execution_count": 23,
   "metadata": {
    "scrolled": true
   },
   "outputs": [],
   "source": [
    "import tensorflow as tf\n",
    "import sys\n",
    "import string\n",
    "import collections\n",
    "import numpy as np\n",
    "import time"
   ]
  },
  {
   "cell_type": "code",
   "execution_count": 6,
   "metadata": {},
   "outputs": [
    {
     "name": "stdout",
     "output_type": "stream",
     "text": [
      "499120\n"
     ]
    }
   ],
   "source": [
    "# Split text into words\n",
    "python3 = sys.version_info[0] == 3\n",
    "with open('data/lovecraft/lovecraft.txt', 'r') as f:\n",
    "    input_str = f.read().lower()\n",
    "    if python3:\n",
    "        trans = input_str.maketrans('', '', string.punctuation)\n",
    "        input_str = input_str.translate(trans)\n",
    "    else:\n",
    "        input_str = input_str.decode('utf-8').translate(None, string.punctuation)\n",
    "    words = input_str.split()\n",
    "    num_words = len(words)\n",
    "print(num_words)"
   ]
  },
  {
   "cell_type": "code",
   "execution_count": 10,
   "metadata": {},
   "outputs": [
    {
     "name": "stdout",
     "output_type": "stream",
     "text": [
      "29807\n"
     ]
    }
   ],
   "source": [
    "# Convert words to values\n",
    "word_freq = collections.Counter(words).most_common()\n",
    "vocab_size = len(word_freq)\n",
    "print(vocab_size)"
   ]
  },
  {
   "cell_type": "code",
   "execution_count": 11,
   "metadata": {},
   "outputs": [],
   "source": [
    "lookup = dict()\n",
    "for word, _ in word_freq:\n",
    "    lookup[word] = len(lookup)"
   ]
  },
  {
   "cell_type": "code",
   "execution_count": 17,
   "metadata": {},
   "outputs": [],
   "source": [
    "# print(lookup)"
   ]
  },
  {
   "cell_type": "code",
   "execution_count": 16,
   "metadata": {},
   "outputs": [
    {
     "name": "stdout",
     "output_type": "stream",
     "text": [
      "[[    0]\n",
      " [  293]\n",
      " [  128]\n",
      " ...\n",
      " [29804]\n",
      " [29805]\n",
      " [29806]]\n",
      "[    0   293   128 ... 29804 29805 29806]\n"
     ]
    }
   ],
   "source": [
    "input_vals = np.asarray([[lookup[str(word)]] for word in words])\n",
    "print(input_vals)\n",
    "input_vals = input_vals.reshape(-1,)\n",
    "print(input_vals)"
   ]
  },
  {
   "cell_type": "code",
   "execution_count": 18,
   "metadata": {},
   "outputs": [],
   "source": [
    "# Set values\n",
    "input_size = 6\n",
    "batch_size = 10\n",
    "num_hidden = 600\n",
    "# Placeholders\n",
    "input_holder = tf.placeholder(tf.float32, [batch_size, input_size])\n",
    "label_holder = tf.placeholder(tf.float32, [batch_size, vocab_size])"
   ]
  },
  {
   "cell_type": "code",
   "execution_count": 19,
   "metadata": {},
   "outputs": [],
   "source": [
    "# Reshape input and feed to RNN\n",
    "cell = tf.nn.rnn_cell.BasicRNNCell(num_hidden)\n",
    "outputs, _ = tf.nn.static_rnn(cell, [input_holder], dtype=tf.float32)"
   ]
  },
  {
   "cell_type": "code",
   "execution_count": 29,
   "metadata": {},
   "outputs": [
    {
     "name": "stdout",
     "output_type": "stream",
     "text": [
      "(1,)\n"
     ]
    }
   ],
   "source": [
    "print(np.shape(outputs))"
   ]
  },
  {
   "cell_type": "code",
   "execution_count": 30,
   "metadata": {},
   "outputs": [
    {
     "name": "stdout",
     "output_type": "stream",
     "text": [
      "(10, 29807)\n"
     ]
    }
   ],
   "source": [
    "# Compute loss\n",
    "weights = tf.Variable(tf.random_normal([num_hidden, vocab_size]))\n",
    "biases = tf.Variable(tf.random_normal([vocab_size]))\n",
    "model = tf.matmul(outputs[-1], weights) + biases\n",
    "print(np.shape(model))\n",
    "loss = tf.reduce_mean(tf.nn.softmax_cross_entropy_with_logits(logits=model,\n",
    "labels=label_holder))"
   ]
  },
  {
   "cell_type": "code",
   "execution_count": 21,
   "metadata": {},
   "outputs": [],
   "source": [
    "# Create optimizer and check result\n",
    "optimizer = tf.train.AdagradOptimizer(0.1).minimize(loss)\n",
    "check = tf.equal(tf.argmax(model, 1), tf.argmax(label_holder, 1))\n",
    "correct = tf.reduce_sum(tf.cast(check, tf.float32))"
   ]
  },
  {
   "cell_type": "code",
   "execution_count": 28,
   "metadata": {},
   "outputs": [
    {
     "name": "stdout",
     "output_type": "stream",
     "text": [
      "Step 0 - Accuracy = 0.0\n",
      "Step 10 - Accuracy = 0.0\n",
      "Step 20 - Accuracy = 0.02\n",
      "Step 30 - Accuracy = 0.0\n",
      "Step 40 - Accuracy = 0.0\n",
      "Step 50 - Accuracy = 0.02\n",
      "Step 60 - Accuracy = 0.01\n",
      "Step 70 - Accuracy = 0.02\n",
      "Step 80 - Accuracy = 0.01\n",
      "Step 90 - Accuracy = 0.02\n",
      "Step 100 - Accuracy = 0.01\n",
      "Step 110 - Accuracy = 0.04\n",
      "Step 120 - Accuracy = 0.0\n",
      "Step 130 - Accuracy = 0.01\n",
      "Step 140 - Accuracy = 0.03\n",
      "Step 150 - Accuracy = 0.01\n",
      "Step 160 - Accuracy = 0.02\n",
      "Step 170 - Accuracy = 0.0\n",
      "Step 180 - Accuracy = 0.0\n",
      "Step 190 - Accuracy = 0.01\n",
      "Step 200 - Accuracy = 0.01\n",
      "Step 210 - Accuracy = 0.02\n",
      "Step 220 - Accuracy = 0.02\n",
      "Step 230 - Accuracy = 0.02\n",
      "Step 240 - Accuracy = 0.01\n",
      "Step 250 - Accuracy = 0.02\n",
      "Step 260 - Accuracy = 0.01\n",
      "Step 270 - Accuracy = 0.01\n",
      "Step 280 - Accuracy = 0.01\n",
      "Step 290 - Accuracy = 0.01\n",
      "Step 300 - Accuracy = 0.02\n",
      "Step 310 - Accuracy = 0.0\n",
      "Step 320 - Accuracy = 0.04\n",
      "Step 330 - Accuracy = 0.03\n",
      "Step 340 - Accuracy = 0.02\n",
      "Step 350 - Accuracy = 0.02\n",
      "Step 360 - Accuracy = 0.0\n",
      "Step 370 - Accuracy = 0.02\n",
      "Step 380 - Accuracy = 0.03\n",
      "Step 390 - Accuracy = 0.02\n",
      "Step 400 - Accuracy = 0.0\n",
      "Step 410 - Accuracy = 0.01\n",
      "Step 420 - Accuracy = 0.01\n",
      "Step 430 - Accuracy = 0.03\n",
      "Step 440 - Accuracy = 0.02\n",
      "Step 450 - Accuracy = 0.01\n",
      "Step 460 - Accuracy = 0.01\n",
      "Step 470 - Accuracy = 0.02\n",
      "Step 480 - Accuracy = 0.0\n",
      "Step 490 - Accuracy = 0.03\n",
      "Step 500 - Accuracy = 0.02\n",
      "Step 510 - Accuracy = 0.02\n",
      "Step 520 - Accuracy = 0.0\n",
      "Step 530 - Accuracy = 0.0\n",
      "Step 540 - Accuracy = 0.0\n",
      "Step 550 - Accuracy = 0.01\n",
      "Step 560 - Accuracy = 0.02\n",
      "Step 570 - Accuracy = 0.02\n",
      "Step 580 - Accuracy = 0.02\n",
      "Step 590 - Accuracy = 0.0\n",
      "Step 600 - Accuracy = 0.01\n",
      "Step 610 - Accuracy = 0.05\n",
      "Step 620 - Accuracy = 0.02\n",
      "Step 630 - Accuracy = 0.02\n",
      "Step 640 - Accuracy = 0.01\n",
      "Step 650 - Accuracy = 0.04\n",
      "Step 660 - Accuracy = 0.03\n",
      "Step 670 - Accuracy = 0.02\n",
      "Step 680 - Accuracy = 0.04\n",
      "Step 690 - Accuracy = 0.03\n",
      "Step 700 - Accuracy = 0.02\n",
      "Step 710 - Accuracy = 0.02\n",
      "Step 720 - Accuracy = 0.0\n",
      "Step 730 - Accuracy = 0.01\n",
      "Step 740 - Accuracy = 0.0\n",
      "Step 750 - Accuracy = 0.01\n",
      "Step 760 - Accuracy = 0.03\n",
      "Step 770 - Accuracy = 0.02\n",
      "Step 780 - Accuracy = 0.02\n",
      "Step 790 - Accuracy = 0.03\n",
      "Step 800 - Accuracy = 0.01\n",
      "Step 810 - Accuracy = 0.01\n",
      "Step 820 - Accuracy = 0.0\n",
      "Step 830 - Accuracy = 0.0\n",
      "Step 840 - Accuracy = 0.01\n",
      "Step 850 - Accuracy = 0.04\n",
      "Step 860 - Accuracy = 0.01\n",
      "Step 870 - Accuracy = 0.01\n",
      "Step 880 - Accuracy = 0.01\n",
      "Step 890 - Accuracy = 0.02\n",
      "Step 900 - Accuracy = 0.01\n",
      "Step 910 - Accuracy = 0.02\n"
     ]
    },
    {
     "ename": "KeyboardInterrupt",
     "evalue": "",
     "output_type": "error",
     "traceback": [
      "\u001b[0;31m---------------------------------------------------------------------------\u001b[0m",
      "\u001b[0;31mKeyboardInterrupt\u001b[0m                         Traceback (most recent call last)",
      "\u001b[0;32m<ipython-input-28-9e4ebebd1660>\u001b[0m in \u001b[0;36m<module>\u001b[0;34m()\u001b[0m\n\u001b[1;32m     12\u001b[0m         \u001b[0moffset\u001b[0m \u001b[0;34m=\u001b[0m \u001b[0mnp\u001b[0m\u001b[0;34m.\u001b[0m\u001b[0mrandom\u001b[0m\u001b[0;34m.\u001b[0m\u001b[0mrandint\u001b[0m\u001b[0;34m(\u001b[0m\u001b[0mnum_words\u001b[0m\u001b[0;34m-\u001b[0m\u001b[0;34m(\u001b[0m\u001b[0minput_size\u001b[0m\u001b[0;34m+\u001b[0m\u001b[0;36m1\u001b[0m\u001b[0;34m)\u001b[0m\u001b[0;34m)\u001b[0m\u001b[0;34m\u001b[0m\u001b[0m\n\u001b[1;32m     13\u001b[0m         \u001b[0minput_block\u001b[0m\u001b[0;34m[\u001b[0m\u001b[0mi\u001b[0m\u001b[0;34m,\u001b[0m \u001b[0;34m:\u001b[0m\u001b[0;34m]\u001b[0m \u001b[0;34m=\u001b[0m \u001b[0minput_vals\u001b[0m\u001b[0;34m[\u001b[0m\u001b[0moffset\u001b[0m\u001b[0;34m:\u001b[0m\u001b[0moffset\u001b[0m\u001b[0;34m+\u001b[0m\u001b[0minput_size\u001b[0m\u001b[0;34m]\u001b[0m\u001b[0;34m\u001b[0m\u001b[0m\n\u001b[0;32m---> 14\u001b[0;31m         \u001b[0mlabel_block\u001b[0m\u001b[0;34m[\u001b[0m\u001b[0mi\u001b[0m\u001b[0;34m,\u001b[0m \u001b[0;34m:\u001b[0m\u001b[0;34m]\u001b[0m \u001b[0;34m=\u001b[0m \u001b[0mnp\u001b[0m\u001b[0;34m.\u001b[0m\u001b[0meye\u001b[0m\u001b[0;34m(\u001b[0m\u001b[0mvocab_size\u001b[0m\u001b[0;34m)\u001b[0m\u001b[0;34m[\u001b[0m\u001b[0minput_vals\u001b[0m\u001b[0;34m[\u001b[0m\u001b[0moffset\u001b[0m\u001b[0;34m+\u001b[0m\u001b[0minput_size\u001b[0m\u001b[0;34m]\u001b[0m\u001b[0;34m]\u001b[0m\u001b[0;34m\u001b[0m\u001b[0m\n\u001b[0m\u001b[1;32m     15\u001b[0m     _, corr = sess.run([optimizer, correct],\n\u001b[1;32m     16\u001b[0m     feed_dict={input_holder: input_block, label_holder: label_block})\n",
      "\u001b[0;32m/anaconda3/lib/python3.6/site-packages/numpy/lib/twodim_base.py\u001b[0m in \u001b[0;36meye\u001b[0;34m(N, M, k, dtype, order)\u001b[0m\n\u001b[1;32m    191\u001b[0m     \u001b[0;32melse\u001b[0m\u001b[0;34m:\u001b[0m\u001b[0;34m\u001b[0m\u001b[0m\n\u001b[1;32m    192\u001b[0m         \u001b[0mi\u001b[0m \u001b[0;34m=\u001b[0m \u001b[0;34m(\u001b[0m\u001b[0;34m-\u001b[0m\u001b[0mk\u001b[0m\u001b[0;34m)\u001b[0m \u001b[0;34m*\u001b[0m \u001b[0mM\u001b[0m\u001b[0;34m\u001b[0m\u001b[0m\n\u001b[0;32m--> 193\u001b[0;31m     \u001b[0mm\u001b[0m\u001b[0;34m[\u001b[0m\u001b[0;34m:\u001b[0m\u001b[0mM\u001b[0m\u001b[0;34m-\u001b[0m\u001b[0mk\u001b[0m\u001b[0;34m]\u001b[0m\u001b[0;34m.\u001b[0m\u001b[0mflat\u001b[0m\u001b[0;34m[\u001b[0m\u001b[0mi\u001b[0m\u001b[0;34m:\u001b[0m\u001b[0;34m:\u001b[0m\u001b[0mM\u001b[0m\u001b[0;34m+\u001b[0m\u001b[0;36m1\u001b[0m\u001b[0;34m]\u001b[0m \u001b[0;34m=\u001b[0m \u001b[0;36m1\u001b[0m\u001b[0;34m\u001b[0m\u001b[0m\n\u001b[0m\u001b[1;32m    194\u001b[0m     \u001b[0;32mreturn\u001b[0m \u001b[0mm\u001b[0m\u001b[0;34m\u001b[0m\u001b[0m\n\u001b[1;32m    195\u001b[0m \u001b[0;34m\u001b[0m\u001b[0m\n",
      "\u001b[0;31mKeyboardInterrupt\u001b[0m: "
     ]
    }
   ],
   "source": [
    "# Execute the graph\n",
    "start_time = time.time()\n",
    "sess = tf.Session()\n",
    "sess.run(tf.global_variables_initializer())\n",
    "input_block = np.empty([batch_size, input_size])\n",
    "label_block = np.empty([batch_size, vocab_size])\n",
    "step = 0\n",
    "num_correct = 0.\n",
    "accuracy = 0.\n",
    "while accuracy < 0.95:\n",
    "    for i in range(batch_size):\n",
    "        offset = np.random.randint(num_words-(input_size+1))\n",
    "        input_block[i, :] = input_vals[offset:offset+input_size]\n",
    "        label_block[i, :] = np.eye(vocab_size)[input_vals[offset+input_size]]\n",
    "    _, corr = sess.run([optimizer, correct],\n",
    "    feed_dict={input_holder: input_block, label_holder: label_block})\n",
    "    num_correct += corr\n",
    "    if step % 10 == 0:\n",
    "        accuracy = num_correct/(10*batch_size)\n",
    "        print('Step', step, '- Accuracy =', accuracy)\n",
    "        num_correct = 0\n",
    "    step += 1"
   ]
  },
  {
   "cell_type": "code",
   "execution_count": null,
   "metadata": {},
   "outputs": [],
   "source": [
    "# Display timing result\n",
    "duration = time.time() - start_time\n",
    "print('Time to reach 95% accuracy: {:.2f} seconds'.format(duration))"
   ]
  }
 ],
 "metadata": {
  "kernelspec": {
   "display_name": "Python 3",
   "language": "python",
   "name": "python3"
  },
  "language_info": {
   "codemirror_mode": {
    "name": "ipython",
    "version": 3
   },
   "file_extension": ".py",
   "mimetype": "text/x-python",
   "name": "python",
   "nbconvert_exporter": "python",
   "pygments_lexer": "ipython3",
   "version": "3.6.4"
  }
 },
 "nbformat": 4,
 "nbformat_minor": 2
}
